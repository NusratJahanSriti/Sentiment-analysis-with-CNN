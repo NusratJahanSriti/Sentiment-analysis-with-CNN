{
  "cells": [
    {
      "cell_type": "code",
      "execution_count": null,
      "metadata": {
        "id": "zMkVLd8ArjTI"
      },
      "outputs": [],
      "source": [
        "import numpy as np\n",
        "import pandas as pd\n",
        "import matplotlib.pyplot as plt\n",
        "%matplotlib inline\n",
        "import seaborn as sns\n",
        "import re,json,nltk\n",
        "from sklearn.metrics import confusion_matrix\n",
        "from sklearn.preprocessing import LabelEncoder\n",
        "from sklearn.feature_extraction.text import TfidfVectorizer\n",
        "from sklearn.model_selection import train_test_split\n",
        "from tensorflow.keras.preprocessing.text import Tokenizer\n",
        "from sklearn.metrics import classification_report,accuracy_score,precision_score,recall_score,f1_score\n",
        "path='/content/Dataset of male & female BD Cricketers.csv'\n",
        "stopwords_list = path+'bangla_stopwords.txt'\n",
        "class color: # Text style\n",
        "   PURPLE = '\\033[95m'\n",
        "   CYAN = '\\033[96m'\n",
        "   DARKCYAN = '\\033[36m'\n",
        "   BLUE = '\\033[94m'\n",
        "   GREEN = '\\033[92m'\n",
        "   YELLOW = '\\033[93m'\n",
        "   RED = '\\033[91m'\n",
        "   BOLD = '\\033[1m'\n",
        "   UNDERLINE = '\\033[4m'\n",
        "   END = '\\033[0m'"
      ]
    },
    {
      "cell_type": "code",
      "execution_count": null,
      "metadata": {
        "colab": {
          "base_uri": "https://localhost:8080/",
          "height": 206
        },
        "id": "ta71KE5CwAlm",
        "outputId": "c556f40c-91c2-4e8e-a9ee-5b53e556ff56"
      },
      "outputs": [
        {
          "output_type": "execute_result",
          "data": {
            "text/plain": [
              "                                             Comment Sentiment  Like  Haha  \\\n",
              "0         হায়রে ধান্দাবাজ \\nপাবলিকের ইমোশন নিয়ে খেলা  Negative   103   420   \n",
              "1  আমি জানতাম এই রকম কিছু হবে  কারণ বাংলাদেশের মা...   Neutral    43   161   \n",
              "2                                  জানতাম এটাই বলবেন   Neutral     4     6   \n",
              "3                               নাটক তো ভালোই সিখছেন   Neutral    12    13   \n",
              "4                             ভাই আমি তো বিকাশ চালাই  Positive     9    33   \n",
              "\n",
              "   Angry  Love  Care  Sad  Wow  \n",
              "0     89     8     2    4    0  \n",
              "1      0     2     1    0    0  \n",
              "2      0     0     0    0    0  \n",
              "3      0     0     0    0    0  \n",
              "4      1     1     0    0    0  "
            ],
            "text/html": [
              "\n",
              "  <div id=\"df-a499ae62-df7e-4ea9-bd91-0d1714ac337b\" class=\"colab-df-container\">\n",
              "    <div>\n",
              "<style scoped>\n",
              "    .dataframe tbody tr th:only-of-type {\n",
              "        vertical-align: middle;\n",
              "    }\n",
              "\n",
              "    .dataframe tbody tr th {\n",
              "        vertical-align: top;\n",
              "    }\n",
              "\n",
              "    .dataframe thead th {\n",
              "        text-align: right;\n",
              "    }\n",
              "</style>\n",
              "<table border=\"1\" class=\"dataframe\">\n",
              "  <thead>\n",
              "    <tr style=\"text-align: right;\">\n",
              "      <th></th>\n",
              "      <th>Comment</th>\n",
              "      <th>Sentiment</th>\n",
              "      <th>Like</th>\n",
              "      <th>Haha</th>\n",
              "      <th>Angry</th>\n",
              "      <th>Love</th>\n",
              "      <th>Care</th>\n",
              "      <th>Sad</th>\n",
              "      <th>Wow</th>\n",
              "    </tr>\n",
              "  </thead>\n",
              "  <tbody>\n",
              "    <tr>\n",
              "      <th>0</th>\n",
              "      <td>হায়রে ধান্দাবাজ \\nপাবলিকের ইমোশন নিয়ে খেলা</td>\n",
              "      <td>Negative</td>\n",
              "      <td>103</td>\n",
              "      <td>420</td>\n",
              "      <td>89</td>\n",
              "      <td>8</td>\n",
              "      <td>2</td>\n",
              "      <td>4</td>\n",
              "      <td>0</td>\n",
              "    </tr>\n",
              "    <tr>\n",
              "      <th>1</th>\n",
              "      <td>আমি জানতাম এই রকম কিছু হবে  কারণ বাংলাদেশের মা...</td>\n",
              "      <td>Neutral</td>\n",
              "      <td>43</td>\n",
              "      <td>161</td>\n",
              "      <td>0</td>\n",
              "      <td>2</td>\n",
              "      <td>1</td>\n",
              "      <td>0</td>\n",
              "      <td>0</td>\n",
              "    </tr>\n",
              "    <tr>\n",
              "      <th>2</th>\n",
              "      <td>জানতাম এটাই বলবেন</td>\n",
              "      <td>Neutral</td>\n",
              "      <td>4</td>\n",
              "      <td>6</td>\n",
              "      <td>0</td>\n",
              "      <td>0</td>\n",
              "      <td>0</td>\n",
              "      <td>0</td>\n",
              "      <td>0</td>\n",
              "    </tr>\n",
              "    <tr>\n",
              "      <th>3</th>\n",
              "      <td>নাটক তো ভালোই সিখছেন</td>\n",
              "      <td>Neutral</td>\n",
              "      <td>12</td>\n",
              "      <td>13</td>\n",
              "      <td>0</td>\n",
              "      <td>0</td>\n",
              "      <td>0</td>\n",
              "      <td>0</td>\n",
              "      <td>0</td>\n",
              "    </tr>\n",
              "    <tr>\n",
              "      <th>4</th>\n",
              "      <td>ভাই আমি তো বিকাশ চালাই</td>\n",
              "      <td>Positive</td>\n",
              "      <td>9</td>\n",
              "      <td>33</td>\n",
              "      <td>1</td>\n",
              "      <td>1</td>\n",
              "      <td>0</td>\n",
              "      <td>0</td>\n",
              "      <td>0</td>\n",
              "    </tr>\n",
              "  </tbody>\n",
              "</table>\n",
              "</div>\n",
              "    <div class=\"colab-df-buttons\">\n",
              "\n",
              "  <div class=\"colab-df-container\">\n",
              "    <button class=\"colab-df-convert\" onclick=\"convertToInteractive('df-a499ae62-df7e-4ea9-bd91-0d1714ac337b')\"\n",
              "            title=\"Convert this dataframe to an interactive table.\"\n",
              "            style=\"display:none;\">\n",
              "\n",
              "  <svg xmlns=\"http://www.w3.org/2000/svg\" height=\"24px\" viewBox=\"0 -960 960 960\">\n",
              "    <path d=\"M120-120v-720h720v720H120Zm60-500h600v-160H180v160Zm220 220h160v-160H400v160Zm0 220h160v-160H400v160ZM180-400h160v-160H180v160Zm440 0h160v-160H620v160ZM180-180h160v-160H180v160Zm440 0h160v-160H620v160Z\"/>\n",
              "  </svg>\n",
              "    </button>\n",
              "\n",
              "  <style>\n",
              "    .colab-df-container {\n",
              "      display:flex;\n",
              "      gap: 12px;\n",
              "    }\n",
              "\n",
              "    .colab-df-convert {\n",
              "      background-color: #E8F0FE;\n",
              "      border: none;\n",
              "      border-radius: 50%;\n",
              "      cursor: pointer;\n",
              "      display: none;\n",
              "      fill: #1967D2;\n",
              "      height: 32px;\n",
              "      padding: 0 0 0 0;\n",
              "      width: 32px;\n",
              "    }\n",
              "\n",
              "    .colab-df-convert:hover {\n",
              "      background-color: #E2EBFA;\n",
              "      box-shadow: 0px 1px 2px rgba(60, 64, 67, 0.3), 0px 1px 3px 1px rgba(60, 64, 67, 0.15);\n",
              "      fill: #174EA6;\n",
              "    }\n",
              "\n",
              "    .colab-df-buttons div {\n",
              "      margin-bottom: 4px;\n",
              "    }\n",
              "\n",
              "    [theme=dark] .colab-df-convert {\n",
              "      background-color: #3B4455;\n",
              "      fill: #D2E3FC;\n",
              "    }\n",
              "\n",
              "    [theme=dark] .colab-df-convert:hover {\n",
              "      background-color: #434B5C;\n",
              "      box-shadow: 0px 1px 3px 1px rgba(0, 0, 0, 0.15);\n",
              "      filter: drop-shadow(0px 1px 2px rgba(0, 0, 0, 0.3));\n",
              "      fill: #FFFFFF;\n",
              "    }\n",
              "  </style>\n",
              "\n",
              "    <script>\n",
              "      const buttonEl =\n",
              "        document.querySelector('#df-a499ae62-df7e-4ea9-bd91-0d1714ac337b button.colab-df-convert');\n",
              "      buttonEl.style.display =\n",
              "        google.colab.kernel.accessAllowed ? 'block' : 'none';\n",
              "\n",
              "      async function convertToInteractive(key) {\n",
              "        const element = document.querySelector('#df-a499ae62-df7e-4ea9-bd91-0d1714ac337b');\n",
              "        const dataTable =\n",
              "          await google.colab.kernel.invokeFunction('convertToInteractive',\n",
              "                                                    [key], {});\n",
              "        if (!dataTable) return;\n",
              "\n",
              "        const docLinkHtml = 'Like what you see? Visit the ' +\n",
              "          '<a target=\"_blank\" href=https://colab.research.google.com/notebooks/data_table.ipynb>data table notebook</a>'\n",
              "          + ' to learn more about interactive tables.';\n",
              "        element.innerHTML = '';\n",
              "        dataTable['output_type'] = 'display_data';\n",
              "        await google.colab.output.renderOutput(dataTable, element);\n",
              "        const docLink = document.createElement('div');\n",
              "        docLink.innerHTML = docLinkHtml;\n",
              "        element.appendChild(docLink);\n",
              "      }\n",
              "    </script>\n",
              "  </div>\n",
              "\n",
              "\n",
              "<div id=\"df-be77d640-5f75-49f5-9eb8-49ee02b1c48d\">\n",
              "  <button class=\"colab-df-quickchart\" onclick=\"quickchart('df-be77d640-5f75-49f5-9eb8-49ee02b1c48d')\"\n",
              "            title=\"Suggest charts\"\n",
              "            style=\"display:none;\">\n",
              "\n",
              "<svg xmlns=\"http://www.w3.org/2000/svg\" height=\"24px\"viewBox=\"0 0 24 24\"\n",
              "     width=\"24px\">\n",
              "    <g>\n",
              "        <path d=\"M19 3H5c-1.1 0-2 .9-2 2v14c0 1.1.9 2 2 2h14c1.1 0 2-.9 2-2V5c0-1.1-.9-2-2-2zM9 17H7v-7h2v7zm4 0h-2V7h2v10zm4 0h-2v-4h2v4z\"/>\n",
              "    </g>\n",
              "</svg>\n",
              "  </button>\n",
              "\n",
              "<style>\n",
              "  .colab-df-quickchart {\n",
              "      --bg-color: #E8F0FE;\n",
              "      --fill-color: #1967D2;\n",
              "      --hover-bg-color: #E2EBFA;\n",
              "      --hover-fill-color: #174EA6;\n",
              "      --disabled-fill-color: #AAA;\n",
              "      --disabled-bg-color: #DDD;\n",
              "  }\n",
              "\n",
              "  [theme=dark] .colab-df-quickchart {\n",
              "      --bg-color: #3B4455;\n",
              "      --fill-color: #D2E3FC;\n",
              "      --hover-bg-color: #434B5C;\n",
              "      --hover-fill-color: #FFFFFF;\n",
              "      --disabled-bg-color: #3B4455;\n",
              "      --disabled-fill-color: #666;\n",
              "  }\n",
              "\n",
              "  .colab-df-quickchart {\n",
              "    background-color: var(--bg-color);\n",
              "    border: none;\n",
              "    border-radius: 50%;\n",
              "    cursor: pointer;\n",
              "    display: none;\n",
              "    fill: var(--fill-color);\n",
              "    height: 32px;\n",
              "    padding: 0;\n",
              "    width: 32px;\n",
              "  }\n",
              "\n",
              "  .colab-df-quickchart:hover {\n",
              "    background-color: var(--hover-bg-color);\n",
              "    box-shadow: 0 1px 2px rgba(60, 64, 67, 0.3), 0 1px 3px 1px rgba(60, 64, 67, 0.15);\n",
              "    fill: var(--button-hover-fill-color);\n",
              "  }\n",
              "\n",
              "  .colab-df-quickchart-complete:disabled,\n",
              "  .colab-df-quickchart-complete:disabled:hover {\n",
              "    background-color: var(--disabled-bg-color);\n",
              "    fill: var(--disabled-fill-color);\n",
              "    box-shadow: none;\n",
              "  }\n",
              "\n",
              "  .colab-df-spinner {\n",
              "    border: 2px solid var(--fill-color);\n",
              "    border-color: transparent;\n",
              "    border-bottom-color: var(--fill-color);\n",
              "    animation:\n",
              "      spin 1s steps(1) infinite;\n",
              "  }\n",
              "\n",
              "  @keyframes spin {\n",
              "    0% {\n",
              "      border-color: transparent;\n",
              "      border-bottom-color: var(--fill-color);\n",
              "      border-left-color: var(--fill-color);\n",
              "    }\n",
              "    20% {\n",
              "      border-color: transparent;\n",
              "      border-left-color: var(--fill-color);\n",
              "      border-top-color: var(--fill-color);\n",
              "    }\n",
              "    30% {\n",
              "      border-color: transparent;\n",
              "      border-left-color: var(--fill-color);\n",
              "      border-top-color: var(--fill-color);\n",
              "      border-right-color: var(--fill-color);\n",
              "    }\n",
              "    40% {\n",
              "      border-color: transparent;\n",
              "      border-right-color: var(--fill-color);\n",
              "      border-top-color: var(--fill-color);\n",
              "    }\n",
              "    60% {\n",
              "      border-color: transparent;\n",
              "      border-right-color: var(--fill-color);\n",
              "    }\n",
              "    80% {\n",
              "      border-color: transparent;\n",
              "      border-right-color: var(--fill-color);\n",
              "      border-bottom-color: var(--fill-color);\n",
              "    }\n",
              "    90% {\n",
              "      border-color: transparent;\n",
              "      border-bottom-color: var(--fill-color);\n",
              "    }\n",
              "  }\n",
              "</style>\n",
              "\n",
              "  <script>\n",
              "    async function quickchart(key) {\n",
              "      const quickchartButtonEl =\n",
              "        document.querySelector('#' + key + ' button');\n",
              "      quickchartButtonEl.disabled = true;  // To prevent multiple clicks.\n",
              "      quickchartButtonEl.classList.add('colab-df-spinner');\n",
              "      try {\n",
              "        const charts = await google.colab.kernel.invokeFunction(\n",
              "            'suggestCharts', [key], {});\n",
              "      } catch (error) {\n",
              "        console.error('Error during call to suggestCharts:', error);\n",
              "      }\n",
              "      quickchartButtonEl.classList.remove('colab-df-spinner');\n",
              "      quickchartButtonEl.classList.add('colab-df-quickchart-complete');\n",
              "    }\n",
              "    (() => {\n",
              "      let quickchartButtonEl =\n",
              "        document.querySelector('#df-be77d640-5f75-49f5-9eb8-49ee02b1c48d button');\n",
              "      quickchartButtonEl.style.display =\n",
              "        google.colab.kernel.accessAllowed ? 'block' : 'none';\n",
              "    })();\n",
              "  </script>\n",
              "</div>\n",
              "\n",
              "    </div>\n",
              "  </div>\n"
            ],
            "application/vnd.google.colaboratory.intrinsic+json": {
              "type": "dataframe",
              "variable_name": "data",
              "summary": "{\n  \"name\": \"data\",\n  \"rows\": 7083,\n  \"fields\": [\n    {\n      \"column\": \"Comment\",\n      \"properties\": {\n        \"dtype\": \"string\",\n        \"num_unique_values\": 6550,\n        \"samples\": [\n          \"\\u098f\\u0987\\u0997\\u09c1\\u09b2\\u09be\\u0987 \\u0995\\u09b0 \\u09ad\\u09be\\u0987 \\u0996\\u09c7\\u09b2\\u09be \\u09b2\\u09be\\u0997\\u09ac\\u09c7 \\u09a8\\u09be\",\n          \"\\u0995\\u09a4 \\u099f\\u09be\\u0995\\u09be \\u09a8\\u09bf\\u099b\\u09c7\\u09a8 \\u09b8\\u09be\\u0995\\u09bf\\u09ac \\u09ad\\u09be\\u0987??\",\n          \"\\u09a8\\u09a4\\u09c1\\u09a8 \\u09b0\\u09c1\\u09aa\\u09c7 \\u09ab\\u09bf\\u09b0\\u09c7 \\u0986\\u09b8\\u09cb \\u09b6\\u09c1\\u09ad \\u0995\\u09be\\u09ae\\u09a8\\u09be \\u09b0\\u0987\\u09b2\\u09cb \\u0996\\u09be\\u09a8 \\u09b8\\u09be\\u09b9\\u09c7\\u09ac\"\n        ],\n        \"semantic_type\": \"\",\n        \"description\": \"\"\n      }\n    },\n    {\n      \"column\": \"Sentiment\",\n      \"properties\": {\n        \"dtype\": \"category\",\n        \"num_unique_values\": 3,\n        \"samples\": [\n          \"Negative\",\n          \"Neutral\",\n          \"Positive\"\n        ],\n        \"semantic_type\": \"\",\n        \"description\": \"\"\n      }\n    },\n    {\n      \"column\": \"Like\",\n      \"properties\": {\n        \"dtype\": \"number\",\n        \"std\": 245,\n        \"min\": 0,\n        \"max\": 19000,\n        \"num_unique_values\": 147,\n        \"samples\": [\n          257,\n          30,\n          131\n        ],\n        \"semantic_type\": \"\",\n        \"description\": \"\"\n      }\n    },\n    {\n      \"column\": \"Haha\",\n      \"properties\": {\n        \"dtype\": \"number\",\n        \"std\": 148,\n        \"min\": 0,\n        \"max\": 7700,\n        \"num_unique_values\": 101,\n        \"samples\": [\n          53,\n          19,\n          106\n        ],\n        \"semantic_type\": \"\",\n        \"description\": \"\"\n      }\n    },\n    {\n      \"column\": \"Angry\",\n      \"properties\": {\n        \"dtype\": \"number\",\n        \"std\": 6,\n        \"min\": 0,\n        \"max\": 512,\n        \"num_unique_values\": 21,\n        \"samples\": [\n          89,\n          15,\n          9\n        ],\n        \"semantic_type\": \"\",\n        \"description\": \"\"\n      }\n    },\n    {\n      \"column\": \"Love\",\n      \"properties\": {\n        \"dtype\": \"number\",\n        \"std\": 132,\n        \"min\": 0,\n        \"max\": 7700,\n        \"num_unique_values\": 108,\n        \"samples\": [\n          2200,\n          13,\n          4\n        ],\n        \"semantic_type\": \"\",\n        \"description\": \"\"\n      }\n    },\n    {\n      \"column\": \"Care\",\n      \"properties\": {\n        \"dtype\": \"number\",\n        \"std\": 24,\n        \"min\": 0,\n        \"max\": 1800,\n        \"num_unique_values\": 46,\n        \"samples\": [\n          23,\n          132,\n          16\n        ],\n        \"semantic_type\": \"\",\n        \"description\": \"\"\n      }\n    },\n    {\n      \"column\": \"Sad\",\n      \"properties\": {\n        \"dtype\": \"number\",\n        \"std\": 13,\n        \"min\": 0,\n        \"max\": 573,\n        \"num_unique_values\": 37,\n        \"samples\": [\n          5,\n          24,\n          2\n        ],\n        \"semantic_type\": \"\",\n        \"description\": \"\"\n      }\n    },\n    {\n      \"column\": \"Wow\",\n      \"properties\": {\n        \"dtype\": \"number\",\n        \"std\": 62,\n        \"min\": 0,\n        \"max\": 4800,\n        \"num_unique_values\": 23,\n        \"samples\": [\n          8,\n          26,\n          0\n        ],\n        \"semantic_type\": \"\",\n        \"description\": \"\"\n      }\n    }\n  ]\n}"
            }
          },
          "metadata": {},
          "execution_count": 2
        }
      ],
      "source": [
        "# Read the dataset\n",
        "data = pd.read_csv('/content/Dataset of male & female BD Cricketers.csv',encoding='UTF-8')\n",
        "data.head()"
      ]
    },
    {
      "cell_type": "code",
      "execution_count": null,
      "metadata": {
        "colab": {
          "base_uri": "https://localhost:8080/"
        },
        "id": "nriXgde2wHIN",
        "outputId": "557f7450-d4ca-4a88-c9e9-50f96f063db1"
      },
      "outputs": [
        {
          "output_type": "stream",
          "name": "stdout",
          "text": [
            "Total Comment: 7083 \n",
            "Total  Positive Comment: 4571 \n",
            "Total Neutral Comment: 1363 \n",
            "Total Negative Comment: 1149\n"
          ]
        }
      ],
      "source": [
        "print(\"Total Comment:\",len(data),\n",
        "      \"\\nTotal  Positive Comment:\",len(data[data.Sentiment =='Positive']),\n",
        "      \"\\nTotal Neutral Comment:\",len(data[data.Sentiment=='Neutral']),\n",
        "      \"\\nTotal Negative Comment:\",len(data[data.Sentiment=='Negative']))"
      ]
    },
    {
      "cell_type": "code",
      "execution_count": null,
      "metadata": {
        "colab": {
          "base_uri": "https://localhost:8080/",
          "height": 435
        },
        "id": "uLr5N8eOwN6N",
        "outputId": "47edaf91-7c29-4ea3-fc9b-08ab8c9e21c6"
      },
      "outputs": [
        {
          "output_type": "display_data",
          "data": {
            "text/plain": [
              "<Figure size 640x480 with 1 Axes>"
            ],
            "image/png": "[encoded data removed]"
          },
          "metadata": {}
        }
      ],
      "source": [
        "data_sentiment = data[data['Sentiment'] == True]\n",
        "sentiment_counts = data['Sentiment'].value_counts()\n",
        "plt.pie(sentiment_counts.values, labels=sentiment_counts.index, autopct='%1.1f%%')\n",
        "plt.title('Sentiment Analysis')\n",
        "plt.axis('equal')  # Equal aspect ratio ensures that the pie chart is circular.\n",
        "# Show the plot\n",
        "plt.show()"
      ]
    },
    {
      "cell_type": "code",
      "execution_count": null,
      "metadata": {
        "colab": {
          "base_uri": "https://localhost:8080/",
          "height": 450
        },
        "id": "ShIsw51-wZDt",
        "outputId": "36fd15ad-0d74-426c-d6a6-fac14bba630b"
      },
      "outputs": [
        {
          "output_type": "display_data",
          "data": {
            "text/plain": [
              "<Figure size 600x400 with 1 Axes>"
            ],
            "image/png": "[encoded data removed]"
          },
          "metadata": {}
        }
      ],
      "source": [
        "sns.set(font_scale=1.4)\n",
        "data['Sentiment'].value_counts().plot(kind='barh', figsize=(6, 4))\n",
        "plt.xlabel(\"Number of Comments\", labelpad=12)\n",
        "plt.ylabel(\"Sentiment Class\", labelpad=12)\n",
        "plt.yticks(rotation = 45)\n",
        "plt.title(\"Dataset Distribution\", y=1.02);"
      ]
    },
    {
      "cell_type": "code",
      "execution_count": null,
      "metadata": {
        "colab": {
          "base_uri": "https://localhost:8080/"
        },
        "id": "cULH-PYXwme_",
        "outputId": "d3f429ef-8068-4057-fbdd-d2baf4921df7"
      },
      "outputs": [
        {
          "output_type": "stream",
          "name": "stdout",
          "text": [
            "আর কত্ত খেলবো \n",
            " Sentiment:--  Positive \n",
            "\n",
            "অভিনন্দন \n",
            " Sentiment:--  Positive \n",
            "\n",
            "জানাচ্ছি \n",
            " Sentiment:--  Positive \n",
            "\n",
            "ভাই জিতান এই ম্যাচ টা দয়া করে \n",
            " Sentiment:--  Positive \n",
            "\n"
          ]
        }
      ],
      "source": [
        "# print some unprocessed reviews\n",
        "sample_data = [10,100,150,1300,]\n",
        "for i in sample_data:\n",
        "      print(data.Comment[i],'\\n','Sentiment:-- ',data.Sentiment[i],'\\n')"
      ]
    },
    {
      "cell_type": "code",
      "execution_count": null,
      "metadata": {
        "id": "UUiECrTZwqfX"
      },
      "outputs": [],
      "source": [
        "# Data cleaning function\n",
        "def process_comments(comment):\n",
        "    comment = re.sub('[^\\u0980-\\u09FF]',' ',str(comment)) #removing unnecessary punctuation\n",
        "    return comment"
      ]
    },
    {
      "cell_type": "code",
      "execution_count": null,
      "metadata": {
        "colab": {
          "base_uri": "https://localhost:8080/"
        },
        "id": "8mIVYRWQxgrG",
        "outputId": "2c44148f-109b-488e-9091-de9abdcb9850"
      },
      "outputs": [
        {
          "output_type": "stream",
          "name": "stdout",
          "text": [
            "Original:\n",
            " আর কত্ত খেলবো \n",
            "Cleaned:\n",
            " আর কত্ত খেলবো \n",
            " Sentiment:--  Positive \n",
            "\n",
            "Original:\n",
            " অভিনন্দন \n",
            "Cleaned:\n",
            " অভিনন্দন \n",
            " Sentiment:--  Positive \n",
            "\n",
            "Original:\n",
            " জানাচ্ছি \n",
            "Cleaned:\n",
            " জানাচ্ছি \n",
            " Sentiment:--  Positive \n",
            "\n",
            "Original:\n",
            " ভাই জিতান এই ম্যাচ টা দয়া করে \n",
            "Cleaned:\n",
            " ভাই জিতান এই ম্যাচ টা দয়া করে \n",
            " Sentiment:--  Positive \n",
            "\n"
          ]
        }
      ],
      "source": [
        "import pandas as pd\n",
        "data['cleaned'] = ''\n",
        "# Apply the function into the dataframe\n",
        "data['cleaned'] = data['Comment'].apply(process_comments)\n",
        "\n",
        "# print some cleaned comment from the dataset\n",
        "sample_data = [10,100,150,1300]\n",
        "for i in sample_data:\n",
        "     print('Original:\\n',data.Comment[i],'\\nCleaned:\\n',\n",
        "           data.cleaned[i],'\\n','Sentiment:-- ',data.Sentiment[i],'\\n')"
      ]
    },
    {
      "cell_type": "code",
      "execution_count": null,
      "metadata": {
        "colab": {
          "base_uri": "https://localhost:8080/"
        },
        "id": "BE9gD2iCxliW",
        "outputId": "48d4fcfa-72be-4a20-9687-a4889e25c8c8"
      },
      "outputs": [
        {
          "output_type": "stream",
          "name": "stdout",
          "text": [
            "After Cleaning: \n",
            "Removed 926 Small Comment \n",
            "Total Comment: 6157\n"
          ]
        }
      ],
      "source": [
        "# Length of each Comment\n",
        "data['length'] = data['cleaned'].apply(lambda x:len(x.split()))\n",
        "# Remove the comment with least words\n",
        "dataset = data.loc[data.length>2]\n",
        "dataset = dataset.reset_index(drop = True)\n",
        "print(\"After Cleaning:\",\"\\nRemoved {} Small Comment\".format(len(data)-len(dataset)),\n",
        "      \"\\nTotal Comment:\",len(dataset))\n"
      ]
    },
    {
      "cell_type": "code",
      "execution_count": null,
      "metadata": {
        "colab": {
          "base_uri": "https://localhost:8080/"
        },
        "id": "IL4EEKuPyJmX",
        "outputId": "3200c0e4-f5f4-4a0a-af3b-9b73760d0800"
      },
      "outputs": [
        {
          "output_type": "stream",
          "name": "stdout",
          "text": [
            "\n",
            "Class Name :  Positive\n",
            "Number of Documents:3977\n",
            "Number of Words:34502\n",
            "Number of Unique Words:6262\n",
            "Most Frequent Words:\n",
            "\n",
            "ভাই\t708\n",
            "আপনার\t359\n",
            "না\t341\n",
            "ভালো\t302\n",
            "জন্য\t301\n",
            "অনেক\t280\n",
            "হবে\t253\n",
            "সাকিব\t235\n",
            "আপনি\t230\n",
            "আর\t221\n",
            "\n",
            "Class Name :  Neutral\n",
            "Number of Documents:1143\n",
            "Number of Words:10114\n",
            "Number of Unique Words:3440\n",
            "Most Frequent Words:\n",
            "\n",
            "না\t211\n",
            "আমার\t108\n",
            "কি\t106\n",
            "করে\t103\n",
            "ভাই\t95\n",
            "আপু\t95\n",
            "এই\t83\n",
            "আপনার\t83\n",
            "আপনি\t73\n",
            "আমি\t67\n",
            "\n",
            "Class Name :  Negative\n",
            "Number of Documents:1037\n",
            "Number of Words:11803\n",
            "Number of Unique Words:3690\n",
            "Most Frequent Words:\n",
            "\n",
            "না\t273\n",
            "ভাই\t136\n",
            "আর\t119\n",
            "করে\t118\n",
            "এই\t91\n",
            "আপনি\t86\n",
            "আপনার\t78\n",
            "থেকে\t74\n",
            "তামিম\t72\n",
            "কি\t68\n",
            "Total Number of Unique Words:9362\n"
          ]
        }
      ],
      "source": [
        "def data_summary(dataset):\n",
        "\n",
        "    \"\"\"\n",
        "    This function will print the summary of the reviews and words distribution in the dataset.\n",
        "\n",
        "    Args:\n",
        "        dataset: list of cleaned sentences\n",
        "\n",
        "    Returns:\n",
        "        Number of documnets per class: int\n",
        "        Number of words per class: int\n",
        "        Number of unique words per class: int\n",
        "    \"\"\"\n",
        "    documents = []\n",
        "    words = []\n",
        "    u_words = []\n",
        "    total_u_words = [word.strip().lower() for t in list(dataset.cleaned) for word in t.strip().split()]\n",
        "    class_label= [k for k,v in dataset.Sentiment.value_counts().to_dict().items()]\n",
        "  # find word list\n",
        "    for label in class_label:\n",
        "        word_list = [word.strip().lower() for t in list(dataset[dataset.Sentiment==label].cleaned) for word in t.strip().split()]\n",
        "        counts = dict()\n",
        "        for word in word_list:\n",
        "                counts[word] = counts.get(word, 0)+1\n",
        "        # sort the dictionary of word list\n",
        "        ordered = sorted(counts.items(), key= lambda item: item[1],reverse = True)\n",
        "        # Documents per class\n",
        "        documents.append(len(list(dataset[dataset.Sentiment==label].cleaned)))\n",
        "        # Total Word per class\n",
        "        words.append(len(word_list))\n",
        "        # Unique words per class\n",
        "        u_words.append(len(np.unique(word_list)))\n",
        "\n",
        "        print(\"\\nClass Name : \",label)\n",
        "        print(\"Number of Documents:{}\".format(len(list(dataset[dataset.Sentiment==label].cleaned))))\n",
        "        print(\"Number of Words:{}\".format(len(word_list)))\n",
        "        print(\"Number of Unique Words:{}\".format(len(np.unique(word_list))))\n",
        "        print(\"Most Frequent Words:\\n\")\n",
        "        for k,v in ordered[:10]:\n",
        "              print(\"{}\\t{}\".format(k,v))\n",
        "    print(\"Total Number of Unique Words:{}\".format(len(np.unique(total_u_words))))\n",
        "\n",
        "    return documents,words,u_words,class_label\n",
        "\n",
        "#call the fucntion\n",
        "documents,words,u_words,class_names = data_summary(dataset)"
      ]
    },
    {
      "cell_type": "code",
      "execution_count": null,
      "metadata": {
        "colab": {
          "base_uri": "https://localhost:8080/",
          "height": 529
        },
        "id": "fXUHEB_byRUV",
        "outputId": "514e7c5a-9138-4adc-cca2-b0ab017c67de"
      },
      "outputs": [
        {
          "output_type": "stream",
          "name": "stderr",
          "text": [
            "<ipython-input-11-46daabb39e01>:13: UserWarning: FixedFormatter should only be used together with FixedLocator\n",
            "  ax.xaxis.set_ticklabels(class_names, rotation=45);\n"
          ]
        },
        {
          "output_type": "display_data",
          "data": {
            "text/plain": [
              "<Figure size 600x400 with 1 Axes>"
            ],
            "image/png": "[encoded data removed]"
          },
          "metadata": {}
        }
      ],
      "source": [
        "data_matrix = pd.DataFrame({'Total Documents':documents,\n",
        "                            'Total Words':words,\n",
        "                            'Unique Words':u_words,\n",
        "                            'Class Names':class_names})\n",
        "df = pd.melt(data_matrix, id_vars=\"Class Names\", var_name=\"Category\", value_name=\"Values\")\n",
        "plt.figure(figsize=(6, 4))\n",
        "ax = plt.subplot()\n",
        "\n",
        "sns.barplot(data=df,x='Class Names', y='Values' ,hue='Category')\n",
        "ax.set_xlabel('Class Names')\n",
        "ax.set_title('Data Statistics')\n",
        "\n",
        "ax.xaxis.set_ticklabels(class_names, rotation=45);"
      ]
    },
    {
      "cell_type": "code",
      "execution_count": null,
      "metadata": {
        "colab": {
          "base_uri": "https://localhost:8080/",
          "height": 546
        },
        "id": "dbXTPtTXyWk8",
        "outputId": "a044a073-4946-4bed-d790-5711335dabef"
      },
      "outputs": [
        {
          "output_type": "display_data",
          "data": {
            "text/plain": [
              "<Figure size 640x480 with 1 Axes>"
            ],
            "image/png": "[encoded data removed]"
          },
          "metadata": {}
        },
        {
          "output_type": "stream",
          "name": "stdout",
          "text": [
            "Maximum Length of a comment: 139\n",
            "Minimum Length of a comment: 3\n",
            "Average Length of a comment: 9.0\n"
          ]
        }
      ],
      "source": [
        "# Calculate the Review of each of the Review\n",
        "dataset['CommentLength'] = dataset.cleaned.apply(lambda x:len(x.split()))\n",
        "frequency = dict()\n",
        "for i in dataset.CommentLength:\n",
        "    frequency[i] = frequency.get(i, 0)+1\n",
        "\n",
        "plt.bar(frequency.keys(), frequency.values(), color =\"b\")\n",
        "plt.xlim(1, 135)\n",
        "# in this notbook color is not working but it should work.\n",
        "plt.xlabel('Lenght of the Texts')\n",
        "plt.ylabel('Frequency')\n",
        "plt.title('Length-Frequency Distribution')\n",
        "plt.show()\n",
        "print(f\"Maximum Length of a comment: {max(dataset.CommentLength)}\")\n",
        "print(f\"Minimum Length of a comment: {min(dataset.CommentLength)}\")\n",
        "print(f\"Average Length of a comment: {round(np.mean(dataset.CommentLength),0)}\")"
      ]
    },
    {
      "cell_type": "code",
      "execution_count": null,
      "metadata": {
        "colab": {
          "base_uri": "https://localhost:8080/"
        },
        "id": "6oJ7tpX9yb5O",
        "outputId": "3677385a-4d69-424c-a662-1fa2a21a083e"
      },
      "outputs": [
        {
          "output_type": "stream",
          "name": "stderr",
          "text": [
            "<ipython-input-14-4b66a9ca1beb>:4: FutureWarning: The frame.append method is deprecated and will be removed from pandas in a future version. Use pandas.concat instead.\n",
            "  dataset = positive.append(negative,ignore_index=True)\n"
          ]
        },
        {
          "output_type": "execute_result",
          "data": {
            "text/plain": [
              "Positive    5120\n",
              "Negative    1037\n",
              "Name: Sentiment, dtype: int64"
            ]
          },
          "metadata": {},
          "execution_count": 14
        }
      ],
      "source": [
        "dataset.Sentiment = dataset.Sentiment.replace({'Neutral':'Positive'})\n",
        "positive = dataset[dataset.Sentiment == 'Positive']\n",
        "negative = dataset[dataset.Sentiment == 'Negative'][:4000]\n",
        "dataset = positive.append(negative,ignore_index=True)\n",
        "dataset.Sentiment.value_counts()\n"
      ]
    },
    {
      "cell_type": "code",
      "execution_count": null,
      "metadata": {
        "id": "uBFsy46lyg8f"
      },
      "outputs": [],
      "source": [
        "  ################# Label Encoding Function #########\n",
        "\n",
        "\n",
        "def label_encoding(sentiment,bool):\n",
        "    \"\"\"\n",
        "    This function will return the encoded labels in array format.\n",
        "\n",
        "    Args:\n",
        "        sentiment: series of class names(str)\n",
        "        bool: boolean (True or False)\n",
        "\n",
        "    Returns:\n",
        "        labels: numpy array\n",
        "    \"\"\"\n",
        "    le = LabelEncoder()\n",
        "    le.fit(sentiment)\n",
        "    encoded_labels = le.transform(sentiment)\n",
        "    labels = np.array(encoded_labels) # Converting into numpy array\n",
        "    class_names =le.classes_ ## Define the class names again\n",
        "    if bool == True:\n",
        "        print(\"\\n\\t\\t\\t===== Label Encoding =====\",\"\\nClass Names:-->\",le.classes_)\n",
        "        for i in sample_data:\n",
        "            print(sentiment[i],' ', encoded_labels[i],'\\n')\n",
        "\n",
        "    return labels\n",
        "\n",
        "\n",
        "\n",
        "\n",
        "                           ################# Dataset Splitting Function ###############\n",
        "\n",
        "\n",
        "def dataset_split(feature_space,sentiment):\n",
        "    \"\"\"\n",
        "    This function will return the splitted (80%-20%) feature vector .\n",
        "\n",
        "    Args:\n",
        "        feature_space: calcuated feature vector (sparse matrix)\n",
        "        sentiment: encoded lables (array)\n",
        "\n",
        "    Returns:\n",
        "        X_train: training feature vector (sparse matrix)\n",
        "        X_test : testing feature vector (sparse matrix)\n",
        "        y_train: training encoded labels (array)\n",
        "        y_test : testing encoded labels (array)\n",
        "    \"\"\"\n",
        "\n",
        "    X_train,X_test,y_train,y_test = train_test_split(feature_space,sentiment,train_size = 0.7,\n",
        "                                                  test_size = 0.3,random_state =0)\n",
        "    print(\"Feature Size :======>\",X_train.shape[1])\n",
        "    print(\"\\nDataset Distribution:\\n\")\n",
        "    print(\"\\tSet Name\",\"\\t\\tSize\")\n",
        "    print(\"\\t========\\t\\t======\")\n",
        "\n",
        "    print(\"\\tFull\\t\\t\\t\",feature_space.shape[0],\n",
        "        \"\\n\\tTraining\\t\\t\",X_train.shape[0],\n",
        "        \"\\n\\tTest\\t\\t\\t\",X_test.shape[0])\n",
        "\n",
        "    return X_train,X_test,y_train,y_test\n",
        "dataset.cleaned = dataset.cleaned.apply(lambda x:x.replace('\\n',' '))"
      ]
    },
    {
      "cell_type": "code",
      "execution_count": null,
      "metadata": {
        "id": "Aycw6Q_2y45G"
      },
      "outputs": [],
      "source": [
        "from sklearn.linear_model import LogisticRegression\n",
        "from sklearn.tree import DecisionTreeClassifier\n",
        "from sklearn.ensemble import RandomForestClassifier\n",
        "from sklearn.neighbors import KNeighborsClassifier\n",
        "from sklearn.svm import SVC\n",
        "from xgboost import XGBClassifier\n",
        "from sklearn.ensemble import AdaBoostClassifier\n",
        "from sklearn.neural_network import MLPClassifier\n",
        "from sklearn.metrics import classification_report,accuracy_score,precision_score,recall_score,f1_score\n",
        "from sklearn.metrics import roc_curve, roc_auc_score\n",
        "from sklearn.metrics import average_precision_score,roc_auc_score, roc_curve, precision_recall_curve"
      ]
    },
    {
      "cell_type": "code",
      "execution_count": null,
      "metadata": {
        "id": "tqupVZiD96-Z"
      },
      "outputs": [],
      "source": [
        "   #########  Classifiers Defination  #########\n",
        "\n",
        "def ml_models_defination():\n",
        "    \"\"\"\n",
        "    This function consists the models defination for All gram Features\n",
        "\n",
        "    Retuns:\n",
        "        ml_models: list of models\n",
        "        model_names: list of model_names\n",
        "\n",
        "    \"\"\"\n",
        "\n",
        "    lr_model = LogisticRegression(random_state = 123)\n",
        "    dt_model = DecisionTreeClassifier(criterion = 'entropy', random_state = 0)\n",
        "    rf_model = RandomForestClassifier(n_estimators=100, criterion ='entropy', random_state = 0)\n",
        "    knn_model = KNeighborsClassifier(n_neighbors=3, metric = 'minkowski')\n",
        "    lsvm_model = SVC(kernel = 'linear',C = 0.2, probability=True, random_state = 0)\n",
        "    xgboost_model= XGBClassifier(n_estimators=100, learning_rate=0.01)\n",
        "    adabost_model=AdaBoostClassifier()\n",
        "    ann_model=MLPClassifier()\n",
        "\n",
        "    model_names = ['Logistic Regression','Decision Tree','Random Forest','KNN','Linear SVM','XGBoost','Adabost','ANN']\n",
        "    #model_names = ['Logistic Regression']\n",
        "    # Create list of models\n",
        "    ml_models = [lr_model,dt_model,rf_model,knn_model,lsvm_model,xgboost_model,adabost_model,ann_model]\n",
        "    #ml_models = [lr_model]\n",
        "    return ml_models,model_names\n",
        "\n",
        "\n",
        "\n",
        "                                           ####### Model Evaluation Function ############\n",
        "\n",
        "\n",
        "def model_performace(model,X_train,X_test,y_train,y_test):\n",
        "    \"\"\"\n",
        "    This function will return the performance parameter values of each ML models.\n",
        "    Performance parameters are Accuracy, F1-Score, Precision, Recall.\n",
        "\n",
        "    Args:\n",
        "        model: a ML model instance\n",
        "        X_train: training feature vector (sparse matrix)\n",
        "        X_test : testing feature vector (sparse matrix)\n",
        "        y_train: training encoded labels (array)\n",
        "        y_test : testing encoded labels (array)\n",
        "\n",
        "    Returns:\n",
        "        my_dict: a dictionary of all the parameters for each models\n",
        "    \"\"\"\n",
        "    my_dict = {}\n",
        "    model.fit(X_train,y_train)\n",
        "    # Prediction\n",
        "    pred_y = model.predict(X_test)\n",
        "    my_dict['Accuracy'] = round(accuracy_score(y_test, pred_y),4)*100\n",
        "    my_dict['Precision'] = round(precision_score(y_test, pred_y),4)*100\n",
        "    my_dict['Recall'] = round(recall_score(y_test, pred_y),4)*100\n",
        "    my_dict['F1 Score'] = round(f1_score(y_test, pred_y),4)*100\n",
        "\n",
        "    return my_dict\n",
        "\n",
        "\n",
        "                                        #### Model Performane into Dataframe #####\n",
        "\n",
        "\n",
        "def performance_table(performance_dict):\n",
        "    \"\"\"\n",
        "    This function will create a dataframe of all the performance parameters.\n",
        "\n",
        "    Args:\n",
        "        performance_dict: a dictionary of all the parameters for each models\n",
        "\n",
        "    Returns:\n",
        "        performance_df: a dataframe\n",
        "    \"\"\"\n",
        "\n",
        "    acc_list = []\n",
        "    pr_list = []\n",
        "    re_list = []\n",
        "    f1_list = []\n",
        "    for i in performance_dict.keys():\n",
        "        acc_list.append(performance_dict[i]['Accuracy'])\n",
        "        pr_list.append(performance_dict[i]['Precision'])\n",
        "        re_list.append(performance_dict[i]['Recall'])\n",
        "        f1_list.append(performance_dict[i]['F1 Score'])\n",
        "\n",
        "    # Create a dataframe\n",
        "    model_names = ['LR','DT','RF','KNN','Linear SVM','XGBoost','Adabost','ANN']\n",
        "    performance_df = pd.DataFrame({'Accuracy':acc_list,'Precision':pr_list,\n",
        "                                   'Recall':re_list,'F1 Score':f1_list,\n",
        "                                   'Model Name':model_names })\n",
        "    return performance_df"
      ]
    },
    {
      "cell_type": "markdown",
      "metadata": {
        "id": "q55s1o4NKH8e"
      },
      "source": [
        "**Sentiment Classification using Word Embeddings (Word2Vec)**"
      ]
    },
    {
      "cell_type": "code",
      "execution_count": null,
      "metadata": {
        "colab": {
          "base_uri": "https://localhost:8080/"
        },
        "id": "tALSaFJ3LtEl",
        "outputId": "0c9e5763-26dc-4d38-d676-d3890303b9a5"
      },
      "outputs": [
        {
          "output_type": "stream",
          "name": "stdout",
          "text": [
            "Feature Size :======> 200\n",
            "\n",
            "Dataset Distribution:\n",
            "\n",
            "\tSet Name \t\tSize\n",
            "\t========\t\t======\n",
            "\tFull\t\t\t 6157 \n",
            "\tTraining\t\t 4309 \n",
            "\tTest\t\t\t 1848\n"
          ]
        }
      ],
      "source": [
        "from gensim.models import Word2Vec\n",
        "\n",
        "# Assuming you have preprocessed your text data and stored it in 'cleaned' column of your dataset\n",
        "\n",
        "# Tokenize the cleaned text data\n",
        "tokenized_text = dataset['cleaned'].apply(lambda x: x.split())\n",
        "\n",
        "# Train Word2Vec model\n",
        "word2vec_model = Word2Vec(tokenized_text, vector_size=200, window=9, min_count=1, sg=1)\n",
        "\n",
        "# Function to get average Word2Vec vectors for each document\n",
        "def get_average_word2vec(tokens_list, vector, generate_missing=False, k=200):\n",
        "    if len(tokens_list) < 1:\n",
        "        return np.zeros(k)\n",
        "    if generate_missing:\n",
        "        vectorized = [vector[word] if word in vector else np.random.rand(k) for word in tokens_list]\n",
        "    else:\n",
        "        vectorized = [vector[word] if word in vector else np.zeros(k) for word in tokens_list]\n",
        "    length = len(vectorized)\n",
        "    summed = np.sum(vectorized, axis=0)\n",
        "    averaged = np.divide(summed, length)\n",
        "    return averaged\n",
        "\n",
        "# Encoding text data using Word2Vec embeddings\n",
        "word2vec_features = [get_average_word2vec(tokens, word2vec_model.wv) for tokens in tokenized_text]\n",
        "\n",
        "# Convert features to numpy array\n",
        "word2vec_features = np.array(word2vec_features)\n",
        "\n",
        "# Split the dataset into training and testing sets\n",
        "X_train, X_test, y_train, y_test = dataset_split(word2vec_features, dataset['Sentiment'])\n",
        "\n"
      ]
    },
    {
      "cell_type": "markdown",
      "metadata": {
        "id": "DqW6iTp6TOq0"
      },
      "source": [
        "**Evaluate the model**"
      ]
    },
    {
      "cell_type": "code",
      "execution_count": null,
      "metadata": {
        "id": "DGs996GIR-a9"
      },
      "outputs": [],
      "source": [
        "from sklearn.preprocessing import LabelEncoder\n",
        "\n",
        "# Create a LabelEncoder object\n",
        "le = LabelEncoder()\n",
        "\n",
        "# Fit and transform the target variable (y_train and y_test) using the LabelEncoder\n",
        "y_train = le.fit_transform(y_train)\n",
        "y_test = le.transform(y_test)"
      ]
    },
    {
      "cell_type": "code",
      "execution_count": null,
      "metadata": {
        "colab": {
          "base_uri": "https://localhost:8080/"
        },
        "id": "OkrySQswRjqk",
        "outputId": "154c769f-ab61-4298-a179-61445281ebcf"
      },
      "outputs": [
        {
          "output_type": "stream",
          "name": "stdout",
          "text": [
            "Model: Logistic Regression\n",
            "Accuracy: 0.8452380952380952\n",
            "Precision: 0.7699579831932774\n",
            "Recall: 0.8452380952380952\n",
            "F1-score: 0.7803153007234641\n",
            "\n",
            "\n",
            "Model: Decision Tree\n",
            "Accuracy: 0.75\n",
            "Precision: 0.7781077852259906\n",
            "Recall: 0.75\n",
            "F1-score: 0.7627588218139397\n",
            "\n",
            "\n",
            "Model: Random Forest\n",
            "Accuracy: 0.8468614718614719\n",
            "Precision: 0.7998068394906999\n",
            "Recall: 0.8468614718614719\n",
            "F1-score: 0.7967527569388573\n",
            "\n",
            "\n",
            "Model: KNN\n",
            "Accuracy: 0.821969696969697\n",
            "Precision: 0.7837289316881153\n",
            "Recall: 0.821969696969697\n",
            "F1-score: 0.7976362480494712\n",
            "\n",
            "\n",
            "Model: Linear SVM\n",
            "Accuracy: 0.8474025974025974\n",
            "Precision: 0.7180911620846686\n",
            "Recall: 0.8474025974025974\n",
            "F1-score: 0.7774062492867414\n",
            "\n",
            "\n",
            "Model: XGBoost\n",
            "Accuracy: 0.8327922077922078\n",
            "Precision: 0.7894104152201444\n",
            "Recall: 0.8327922077922078\n",
            "F1-score: 0.8018559645489568\n",
            "\n",
            "\n",
            "Model: Adaboost\n",
            "Accuracy: 0.8392857142857143\n",
            "Precision: 0.7615595148652999\n",
            "Recall: 0.8392857142857143\n",
            "F1-score: 0.7816833565724426\n",
            "\n",
            "\n",
            "Model: ANN\n",
            "Accuracy: 0.8463203463203464\n",
            "Precision: 0.7179510630214855\n",
            "Recall: 0.8463203463203464\n",
            "F1-score: 0.7768685007840929\n",
            "\n",
            "\n"
          ]
        },
        {
          "output_type": "stream",
          "name": "stderr",
          "text": [
            "/usr/local/lib/python3.10/dist-packages/sklearn/metrics/_classification.py:1344: UndefinedMetricWarning: Precision is ill-defined and being set to 0.0 in labels with no predicted samples. Use `zero_division` parameter to control this behavior.\n",
            "  _warn_prf(average, modifier, msg_start, len(result))\n"
          ]
        }
      ],
      "source": [
        "# Define and train the Logistic Regression model\n",
        "lr_model = LogisticRegression()\n",
        "lr_model.fit(X_train, y_train)\n",
        "\n",
        "# Define and train the Decision Tree model\n",
        "dt_model = DecisionTreeClassifier()\n",
        "dt_model.fit(X_train, y_train)\n",
        "\n",
        "# Define and train the Random Forest model\n",
        "rf_model = RandomForestClassifier(n_estimators=100)\n",
        "rf_model.fit(X_train, y_train)\n",
        "\n",
        "# Define and train the KNN model\n",
        "knn_model = KNeighborsClassifier()\n",
        "knn_model.fit(X_train, y_train)\n",
        "\n",
        "# Define and train the Linear SVM model\n",
        "lsvm_model = SVC(kernel='linear', probability=True)\n",
        "lsvm_model.fit(X_train, y_train)\n",
        "\n",
        "# Define and train the XGBoost model\n",
        "xgboost_model = XGBClassifier()\n",
        "xgboost_model.fit(X_train, y_train)\n",
        "\n",
        "# Define and train the Adaboost model\n",
        "adabost_model = AdaBoostClassifier()\n",
        "adabost_model.fit(X_train, y_train)\n",
        "\n",
        "# Define and train the ANN model (Multi-layer Perceptron)\n",
        "ann_model = MLPClassifier()\n",
        "ann_model.fit(X_train, y_train)\n",
        "\n",
        "# Function to evaluate the model and calculate performance metrics\n",
        "def evaluate_model(model, X_test, y_test):\n",
        "    y_pred = model.predict(X_test)\n",
        "    accuracy = accuracy_score(y_test, y_pred)\n",
        "    precision = precision_score(y_test, y_pred, average='weighted')\n",
        "    recall = recall_score(y_test, y_pred, average='weighted')\n",
        "    f1 = f1_score(y_test, y_pred, average='weighted')\n",
        "    return accuracy, precision, recall, f1\n",
        "\n",
        "# Evaluate each model\n",
        "models = [lr_model, dt_model, rf_model, knn_model, lsvm_model, xgboost_model, adabost_model, ann_model]\n",
        "model_names = ['Logistic Regression', 'Decision Tree', 'Random Forest', 'KNN', 'Linear SVM', 'XGBoost', 'Adaboost', 'ANN']\n",
        "results = {}\n",
        "for model, name in zip(models, model_names):\n",
        "    accuracy, precision, recall, f1 = evaluate_model(model, X_test, y_test)\n",
        "    results[name] = {'Accuracy': accuracy, 'Precision': precision, 'Recall': recall, 'F1-score': f1}\n",
        "\n",
        "# Print performance metrics for each model\n",
        "for model_name, metrics in results.items():\n",
        "    print(f\"Model: {model_name}\")\n",
        "    print(f\"Accuracy: {metrics['Accuracy']}\")\n",
        "    print(f\"Precision: {metrics['Precision']}\")\n",
        "    print(f\"Recall: {metrics['Recall']}\")\n",
        "    print(f\"F1-score: {metrics['F1-score']}\")\n",
        "    print(\"\\n\")"
      ]
    },
    {
      "cell_type": "markdown",
      "metadata": {
        "id": "C7_8AdfSQNLR"
      },
      "source": [
        "**Use Neural Network**"
      ]
    },
    {
      "cell_type": "code",
      "execution_count": null,
      "metadata": {
        "colab": {
          "base_uri": "https://localhost:8080/"
        },
        "id": "2D6-4pueR-c_",
        "outputId": "e9fb0fc3-37be-4149-bfd1-1f96c4fe3b4f"
      },
      "outputs": [
        {
          "output_type": "stream",
          "name": "stdout",
          "text": [
            "Neural Network Performance Metrics:\n",
            "Accuracy: 0.8463203463203464\n",
            "Precision: 0.7179510630214855\n",
            "Recall: 0.8463203463203464\n",
            "F1-score: 0.7768685007840929\n"
          ]
        }
      ],
      "source": [
        "# Define the Neural Network Architecture\n",
        "nn_model = MLPClassifier(hidden_layer_sizes=(100,), max_iter=500, activation='relu', solver='adam', random_state=1)\n",
        "\n",
        "# Train the Neural Network\n",
        "nn_model.fit(X_train, y_train)\n",
        "\n",
        "# Evaluate the Neural Network\n",
        "accuracy, precision, recall, f1 = evaluate_model(nn_model, X_test, y_test)\n",
        "print(\"Neural Network Performance Metrics:\")\n",
        "print(f\"Accuracy: {accuracy}\")\n",
        "print(f\"Precision: {precision}\")\n",
        "print(f\"Recall: {recall}\")\n",
        "print(f\"F1-score: {f1}\")"
      ]
    },
    {
      "cell_type": "markdown",
      "metadata": {
        "id": "RR9xIPoMQUbO"
      },
      "source": [
        "**CNN**"
      ]
    },
    {
      "cell_type": "code",
      "execution_count": null,
      "metadata": {
        "colab": {
          "base_uri": "https://localhost:8080/"
        },
        "id": "jjN-n_SWRQPf",
        "outputId": "b39353bd-c04a-452a-956b-ff187da23f16"
      },
      "outputs": [
        {
          "output_type": "stream",
          "name": "stdout",
          "text": [
            "Feature Size :======> 200\n",
            "\n",
            "Dataset Distribution:\n",
            "\n",
            "\tSet Name \t\tSize\n",
            "\t========\t\t======\n",
            "\tFull\t\t\t 6157 \n",
            "\tTraining\t\t 4309 \n",
            "\tTest\t\t\t 1848\n",
            "Epoch 1/10\n",
            "68/68 [==============================] - 22s 304ms/step - loss: 0.4804 - accuracy: 0.8160 - val_loss: 0.4031 - val_accuracy: 0.8474\n",
            "Epoch 2/10\n",
            "68/68 [==============================] - 19s 279ms/step - loss: 0.3298 - accuracy: 0.8522 - val_loss: 0.3614 - val_accuracy: 0.8436\n",
            "Epoch 3/10\n",
            "68/68 [==============================] - 20s 296ms/step - loss: 0.1407 - accuracy: 0.9492 - val_loss: 0.4412 - val_accuracy: 0.8312\n",
            "Epoch 4/10\n",
            "68/68 [==============================] - 19s 283ms/step - loss: 0.0549 - accuracy: 0.9835 - val_loss: 0.5468 - val_accuracy: 0.8263\n",
            "Epoch 5/10\n",
            "68/68 [==============================] - 20s 297ms/step - loss: 0.0327 - accuracy: 0.9914 - val_loss: 0.5841 - val_accuracy: 0.8014\n",
            "Epoch 6/10\n",
            "68/68 [==============================] - 18s 271ms/step - loss: 0.0283 - accuracy: 0.9933 - val_loss: 0.5920 - val_accuracy: 0.8268\n",
            "Epoch 7/10\n",
            "68/68 [==============================] - 19s 278ms/step - loss: 0.0216 - accuracy: 0.9944 - val_loss: 0.6245 - val_accuracy: 0.7982\n",
            "Epoch 8/10\n",
            "68/68 [==============================] - 19s 276ms/step - loss: 0.0202 - accuracy: 0.9944 - val_loss: 0.6170 - val_accuracy: 0.8160\n",
            "Epoch 9/10\n",
            "68/68 [==============================] - 21s 315ms/step - loss: 0.0194 - accuracy: 0.9937 - val_loss: 0.6391 - val_accuracy: 0.7857\n",
            "Epoch 10/10\n",
            "68/68 [==============================] - 19s 283ms/step - loss: 0.0165 - accuracy: 0.9944 - val_loss: 0.6560 - val_accuracy: 0.8052\n",
            "58/58 [==============================] - 2s 32ms/step - loss: 0.6560 - accuracy: 0.8052\n",
            "CNN Model Performance Metrics:\n",
            "Loss: 0.6559928059577942\n",
            "Accuracy: 0.8051947951316833\n"
          ]
        }
      ],
      "source": [
        "from keras.models import Sequential\n",
        "from keras.layers import Embedding, Conv1D, GlobalMaxPooling1D, Dense\n",
        "from keras.preprocessing.text import Tokenizer\n",
        "from keras.preprocessing.sequence import pad_sequences\n",
        "\n",
        "# Tokenize text data\n",
        "tokenizer = Tokenizer()\n",
        "tokenizer.fit_on_texts(dataset['cleaned'])\n",
        "sequences = tokenizer.texts_to_sequences(dataset['cleaned'])\n",
        "\n",
        "# Pad sequences to ensure uniform length\n",
        "maxlen = 200  # Define maximum sequence length\n",
        "sequences = pad_sequences(sequences, maxlen=maxlen)\n",
        "\n",
        "# Define CNN model architecture\n",
        "cnn_model = Sequential()\n",
        "cnn_model.add(Embedding(input_dim=len(tokenizer.word_index) + 1, output_dim=200, input_length=maxlen))\n",
        "cnn_model.add(Conv1D(filters=128, kernel_size=5, activation='relu'))\n",
        "cnn_model.add(GlobalMaxPooling1D())\n",
        "cnn_model.add(Dense(units=64, activation='relu'))\n",
        "cnn_model.add(Dense(units=1, activation='sigmoid'))\n",
        "\n",
        "# Import necessary libraries\n",
        "from keras.losses import BinaryCrossentropy\n",
        "\n",
        "# Update the loss function to BinaryCrossentropy\n",
        "cnn_model.compile(optimizer='adam', loss='binary_crossentropy', metrics=['accuracy'])\n",
        "\n",
        "\n",
        "# Split the dataset into training and testing sets\n",
        "X_train, X_test, y_train, y_test = dataset_split(sequences, dataset['Sentiment'])\n",
        "\n",
        "from sklearn.preprocessing import LabelEncoder\n",
        "\n",
        "# Create a LabelEncoder object\n",
        "label_encoder = LabelEncoder()\n",
        "\n",
        "# Fit and transform the target variable (y_train and y_test) using the LabelEncoder\n",
        "y_train_encoded = label_encoder.fit_transform(y_train)\n",
        "y_test_encoded = label_encoder.transform(y_test)\n",
        "\n",
        "# Train the CNN model\n",
        "cnn_model.fit(X_train, y_train_encoded, epochs=10, batch_size=64, validation_data=(X_test, y_test_encoded))\n",
        "\n",
        "\n",
        "# Evaluate the CNN model\n",
        "loss, accuracy = cnn_model.evaluate(X_test, y_test_encoded)\n",
        "print(\"CNN Model Performance Metrics:\")\n",
        "print(f\"Loss: {loss}\")\n",
        "print(f\"Accuracy: {accuracy}\")"
      ]
    },
    {
      "cell_type": "code",
      "execution_count": null,
      "metadata": {
        "colab": {
          "base_uri": "https://localhost:8080/"
        },
        "id": "4unyQp-lb0-l",
        "outputId": "000079d2-964d-40d7-9889-92a6bfea6f5f"
      },
      "outputs": [
        {
          "output_type": "stream",
          "name": "stdout",
          "text": [
            "58/58 [==============================] - 2s 32ms/step\n",
            "CNN Model Performance Metrics:\n",
            "Accuracy: 0.8051948051948052\n",
            "Precision: 0.892578125\n",
            "Recall: 0.8754789272030651\n",
            "F1-score: 0.8839458413926498\n"
          ]
        }
      ],
      "source": [
        "from sklearn.metrics import precision_score, recall_score, f1_score, accuracy_score\n",
        "\n",
        "# Predict probabilities for the test data\n",
        "y_pred_proba = cnn_model.predict(X_test)\n",
        "\n",
        "# Convert probabilities to binary predictions (0 or 1)\n",
        "y_pred = (y_pred_proba > 0.5).astype(int)\n",
        "\n",
        "# Calculate Accuracy\n",
        "accuracy = accuracy_score(y_test_encoded, y_pred)\n",
        "\n",
        "# Calculate Precision\n",
        "precision = precision_score(y_test_encoded, y_pred)\n",
        "\n",
        "# Calculate Recall\n",
        "recall = recall_score(y_test_encoded, y_pred)\n",
        "\n",
        "# Calculate F1-score\n",
        "f1 = f1_score(y_test_encoded, y_pred)\n",
        "\n",
        "# Print the performance metrics\n",
        "print(\"CNN Model Performance Metrics:\")\n",
        "print(f\"Accuracy: {accuracy}\")\n",
        "print(f\"Precision: {precision}\")\n",
        "print(f\"Recall: {recall}\")\n",
        "print(f\"F1-score: {f1}\")"
      ]
    },
    {
      "cell_type": "markdown",
      "source": [
        "**Comparision**"
      ],
      "metadata": {
        "id": "n3lsRIjcd51e"
      }
    },
    {
      "cell_type": "code",
      "source": [
        "import matplotlib.pyplot as plt\n",
        "import numpy as np\n",
        "\n",
        "# Define model names and performance metrics\n",
        "model_names = ['Logistic Regression', 'Decision Tree', 'Random Forest', 'KNN', 'Linear SVM', 'XGBoost', 'Adaboost', 'ANN', 'CNN']\n",
        "\n",
        "# Sample performance metrics (replace these with your actual metrics)\n",
        "accuracy = [0.85, 0.75, 0.84, 0.79, 0.82, 0.84, 0.83, 0.83, 0.80]\n",
        "precision = [0.76, 0.77, 0.79, 0.78, 0.78, 0.71, 0.78, 0.76, 0.89]\n",
        "recall = [0.84, 0.75, 0.81, 0.84, 0.82, 0.84, 0.83, 0.83, 0.87]\n",
        "f1_score = [0.78, 0.76, 0.80, 0.79, 0.79, 0.77, 0.80, 0.78, 0.88]\n",
        "\n",
        "# Plotting\n",
        "x = np.arange(len(model_names))  # the label locations\n",
        "width = 0.2  # the width of the bars\n",
        "\n",
        "fig, ax = plt.subplots(figsize=(12, 6))\n",
        "rects1 = ax.bar(x - 3*width/2, accuracy, width, label='Accuracy')\n",
        "rects2 = ax.bar(x - width/2, precision, width, label='Precision')\n",
        "rects3 = ax.bar(x + width/2, recall, width, label='Recall')\n",
        "rects4 = ax.bar(x + 3*width/2, f1_score, width, label='F1-score')\n",
        "\n",
        "# Add some text for labels, title and custom x-axis tick labels, etc.\n",
        "ax.set_ylabel('Scores')\n",
        "ax.set_title('Performance Comparison of Different Models')\n",
        "ax.set_xticks(x)\n",
        "ax.set_xticklabels(model_names, rotation=45, ha='right')\n",
        "ax.legend()\n",
        "\n",
        "# Function to attach labels on top of the bars\n",
        "def autolabel(rects):\n",
        "    \"\"\"Attach a text label above each bar in *rects*, displaying its height.\"\"\"\n",
        "    for rect in rects:\n",
        "        height = rect.get_height()\n",
        "        ax.annotate('{}'.format(round(height, 2)),\n",
        "                    xy=(rect.get_x() + rect.get_width() / 2, height),\n",
        "                    xytext=(0, 3),  # 3 points vertical offset\n",
        "                    textcoords=\"offset points\",\n",
        "                    ha='center', va='bottom')\n",
        "\n",
        "\n",
        "\n",
        "fig.tight_layout()\n",
        "\n",
        "plt.show()"
      ],
      "metadata": {
        "colab": {
          "base_uri": "https://localhost:8080/",
          "height": 559
        },
        "id": "93eHRfXvgB4d",
        "outputId": "b418a86f-7e51-4f37-a392-1fa7f59f755d"
      },
      "execution_count": null,
      "outputs": [
        {
          "output_type": "display_data",
          "data": {
            "text/plain": [
              "<Figure size 1200x600 with 1 Axes>"
            ],
            "image/png": "[encoded data removed]"
          },
          "metadata": {}
        }
      ]
    }
  ],
  "metadata": {
    "colab": {
      "provenance": []
    },
    "kernelspec": {
      "display_name": "Python 3",
      "name": "python3"
    },
    "language_info": {
      "name": "python"
    }
  },
  "nbformat": 4,
  "nbformat_minor": 0
}